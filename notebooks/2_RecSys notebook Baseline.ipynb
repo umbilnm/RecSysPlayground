{
 "cells": [
  {
   "cell_type": "markdown",
   "metadata": {},
   "source": [
    "## Libs"
   ]
  },
  {
   "cell_type": "code",
   "execution_count": 1,
   "metadata": {},
   "outputs": [
    {
     "name": "stderr",
     "output_type": "stream",
     "text": [
      "/tmp/ipykernel_41411/3700335951.py:23: DeprecationWarning: Importing display from IPython.core.display is deprecated since IPython 7.14, please import from IPython display\n",
      "  from IPython.core.display import display, HTML, clear_output\n",
      "/tmp/ipykernel_41411/3700335951.py:23: DeprecationWarning: Importing clear_output from IPython.core.display is deprecated since IPython 7.14, please import from IPython display\n",
      "  from IPython.core.display import display, HTML, clear_output\n"
     ]
    },
    {
     "data": {
      "text/html": [
       "<style>.container { width:80% !important; }</style>"
      ],
      "text/plain": [
       "<IPython.core.display.HTML object>"
      ]
     },
     "metadata": {},
     "output_type": "display_data"
    },
    {
     "data": {
      "text/html": [
       "<style>.prompt { min-width:10ex !important; }</style>"
      ],
      "text/plain": [
       "<IPython.core.display.HTML object>"
      ]
     },
     "metadata": {},
     "output_type": "display_data"
    },
    {
     "data": {
      "text/html": [
       "<style>div#notebook { font-size:12px !important; }</style>"
      ],
      "text/plain": [
       "<IPython.core.display.HTML object>"
      ]
     },
     "metadata": {},
     "output_type": "display_data"
    }
   ],
   "source": [
    "import random\n",
    "import datetime\n",
    "import numpy as np\n",
    "\n",
    "import scipy.sparse as sp\n",
    "import pandas as pd\n",
    "\n",
    "from itertools import islice, cycle\n",
    "from more_itertools import pairwise\n",
    "from implicit.nearest_neighbours import CosineRecommender\n",
    "\n",
    "%matplotlib inline\n",
    "import matplotlib as mpl\n",
    "import matplotlib.pyplot as plt\n",
    "mpl.rc('axes', labelsize=14)\n",
    "mpl.rc('xtick', labelsize=12)\n",
    "mpl.rc('ytick', labelsize=12)\n",
    "\n",
    "import seaborn as sns\n",
    "sns.set(style='whitegrid')\n",
    "sns.set(rc={'figure.figsize':(17, 9)})\n",
    "\n",
    "from IPython.core.display import display, HTML, clear_output\n",
    "display(HTML('<style>.container { width:80% !important; }</style>'))\n",
    "display(HTML('<style>.prompt { min-width:10ex !important; }</style>'))\n",
    "display(HTML('<style>div#notebook { font-size:12px !important; }</style>'))"
   ]
  },
  {
   "cell_type": "markdown",
   "metadata": {},
   "source": [
    "## Functions"
   ]
  },
  {
   "cell_type": "code",
   "execution_count": 4,
   "metadata": {},
   "outputs": [],
   "source": [
    "def calculate_novelty(train_interactions:pd.DataFrame, recommendations:pd.DataFrame, top_n): \n",
    "    users = recommendations['user_id'].unique()\n",
    "    n_users = train_interactions['user_id'].nunique()\n",
    "    n_users_per_item = train_interactions.groupby('item_id')['user_id'].nunique()\n",
    "\n",
    "    recommendations = recommendations.loc[recommendations['rank'] <= top_n].copy()\n",
    "    recommendations['n_users_per_item'] = recommendations['item_id'].map(n_users_per_item)\n",
    "    recommendations['n_users_per_item'] = recommendations['n_users_per_item'].fillna(1)\n",
    "    recommendations['item_novelty'] = -np.log2(recommendations['n_users_per_item'] / n_users)\n",
    "\n",
    "    item_novelties = recommendations[['user_id', 'rank', 'item_novelty']]\n",
    "    \n",
    "    miuf_at_k = item_novelties.loc[item_novelties['rank'] <= top_n, ['user_id', 'item_novelty']]\n",
    "    miuf_at_k = miuf_at_k.groupby('user_id').agg('mean').squeeze()\n",
    "\n",
    "    return miuf_at_k.reindex(users).mean()"
   ]
  },
  {
   "cell_type": "code",
   "execution_count": 5,
   "metadata": {},
   "outputs": [],
   "source": [
    "def compute_metrics(train, test, recs, top_N):\n",
    "    result = {}\n",
    "    test_recs = test.set_index(['user_id', 'item_id']).join(recs.set_index(['user_id', 'item_id']))\n",
    "    test_recs = test_recs.sort_values(by=['user_id', 'rank'])\n",
    "\n",
    "    test_recs['users_item_count'] = test_recs.groupby(level='user_id')['rank'].transform(np.size)\n",
    "    test_recs['reciprocal_rank'] = (1 / test_recs['rank']).fillna(0)\n",
    "    test_recs['cumulative_rank'] = test_recs.groupby(level='user_id').cumcount() + 1\n",
    "    test_recs['cumulative_rank'] = test_recs['cumulative_rank'] / test_recs['rank']\n",
    "    \n",
    "    users_count = test_recs.index.get_level_values('user_id').nunique()\n",
    "    \n",
    "    # Uncomment for Precision/Recall at k results\n",
    "\n",
    "    for k in range(1, top_N + 1):\n",
    "        hit_k = f'hit@{k}'\n",
    "        test_recs[hit_k] = test_recs['rank'] <= k\n",
    "        result[f'Precision@{k}'] = (test_recs[hit_k] / k).sum() / users_count\n",
    "        result[f'Recall@{k}'] = (test_recs[hit_k] / test_recs['users_item_count']).sum() / users_count\n",
    "        \n",
    "    result[f'MAP@{top_N}'] = (test_recs['cumulative_rank'] / test_recs['users_item_count']).sum() / users_count\n",
    "    result[f'Novelty@{top_N}'] = calculate_novelty(train, recs, top_N)\n",
    "    \n",
    "    return pd.Series(result)"
   ]
  },
  {
   "cell_type": "code",
   "execution_count": 6,
   "metadata": {},
   "outputs": [],
   "source": [
    "class TimeRangeSplit():\n",
    "    \"\"\"\n",
    "        https://pandas.pydata.org/pandas-docs/stable/reference/api/pandas.date_range.html\n",
    "    \"\"\"\n",
    "    def __init__(self, \n",
    "                 start_date, \n",
    "                 end_date=None, \n",
    "                 freq='D', \n",
    "                 periods=None, \n",
    "                 tz=None, \n",
    "                 normalize=False, \n",
    "                 inclusive=\"both\", \n",
    "                 train_min_date=None,\n",
    "                 filter_cold_users=True, \n",
    "                 filter_cold_items=True, \n",
    "                 filter_already_seen=True):\n",
    "        \n",
    "        self.start_date = start_date\n",
    "        if end_date is None and periods is None:\n",
    "            raise ValueError('Either \"end_date\" or \"periods\" must be non-zero, not both at the same time.')\n",
    "\n",
    "        self.end_date = end_date\n",
    "        self.freq = freq\n",
    "        self.periods = periods\n",
    "        self.tz = tz\n",
    "        self.normalize = normalize\n",
    "        self.inclusive =  inclusive\n",
    "        self.train_min_date = pd.to_datetime(train_min_date, errors='raise')\n",
    "        self.filter_cold_users = filter_cold_users\n",
    "        self.filter_cold_items = filter_cold_items\n",
    "        self.filter_already_seen = filter_already_seen\n",
    "\n",
    "        self.date_range = pd.date_range(\n",
    "            start=start_date, \n",
    "            end=end_date, \n",
    "            freq=freq, \n",
    "            periods=periods, \n",
    "            tz=tz, \n",
    "            normalize=normalize, \n",
    "            inclusive=inclusive)\n",
    "\n",
    "        self.max_n_splits = max(0, len(self.date_range) - 1)\n",
    "        if self.max_n_splits == 0:\n",
    "            raise ValueError('Provided parametrs set an empty date range.') \n",
    "\n",
    "    def split(self, \n",
    "              df, \n",
    "              user_column='user_id',\n",
    "              item_column='item_id',\n",
    "              datetime_column='date',\n",
    "              fold_stats=False):\n",
    "        df_datetime = df[datetime_column]\n",
    "        if self.train_min_date is not None:\n",
    "            train_min_mask = df_datetime >= self.train_min_date\n",
    "        else:\n",
    "            train_min_mask = df_datetime.notnull()\n",
    "\n",
    "        date_range = self.date_range[(self.date_range >= df_datetime.min()) & \n",
    "                                     (self.date_range <= df_datetime.max())]\n",
    "\n",
    "        for start, end in pairwise(date_range):\n",
    "            fold_info = {\n",
    "                'Start date': start,\n",
    "                'End date': end\n",
    "            }\n",
    "            train_mask = train_min_mask & (df_datetime < start)\n",
    "            train_idx = df.index[train_mask]\n",
    "            if fold_stats:\n",
    "                fold_info['Train'] = len(train_idx)\n",
    "\n",
    "            test_mask = (df_datetime >= start) & (df_datetime < end)\n",
    "            test_idx = df.index[test_mask]\n",
    "            \n",
    "            if self.filter_cold_users:\n",
    "                new = np.setdiff1d(\n",
    "                    df.loc[test_idx, user_column].unique(), \n",
    "                    df.loc[train_idx, user_column].unique())\n",
    "                new_idx = df.index[test_mask & df[user_column].isin(new)]\n",
    "                test_idx = np.setdiff1d(test_idx, new_idx)\n",
    "                test_mask = df.index.isin(test_idx)\n",
    "                if fold_stats:\n",
    "                    fold_info['New users'] = len(new)\n",
    "                    fold_info['New users interactions'] = len(new_idx)\n",
    "\n",
    "            if self.filter_cold_items:\n",
    "                new = np.setdiff1d(\n",
    "                    df.loc[test_idx, item_column].unique(), \n",
    "                    df.loc[train_idx, item_column].unique())\n",
    "                new_idx = df.index[test_mask & df[item_column].isin(new)]\n",
    "                test_idx = np.setdiff1d(test_idx, new_idx)\n",
    "                test_mask = df.index.isin(test_idx)\n",
    "                if fold_stats:\n",
    "                    fold_info['New items'] = len(new)\n",
    "                    fold_info['New items interactions'] = len(new_idx)\n",
    "\n",
    "            if self.filter_already_seen:\n",
    "                user_item = [user_column, item_column]\n",
    "                train_pairs = df.loc[train_idx, user_item].set_index(user_item).index\n",
    "                test_pairs = df.loc[test_idx, user_item].set_index(user_item).index\n",
    "                intersection = train_pairs.intersection(test_pairs)\n",
    "                print(f'Already seen number: {len(intersection)}')\n",
    "                test_idx = test_idx[~test_pairs.isin(intersection)]\n",
    "                # test_mask = rd.df.index.isin(test_idx)\n",
    "                if fold_stats:\n",
    "                    fold_info['Known interactions'] = len(intersection)\n",
    "\n",
    "            if fold_stats:\n",
    "                fold_info['Test'] = len(test_idx)\n",
    "\n",
    "            yield (train_idx, test_idx, fold_info)\n",
    "\n",
    "    def get_n_splits(self, df, datetime_column='date'):\n",
    "        df_datetime = df[datetime_column]\n",
    "        if self.train_min_date is not None:\n",
    "            df_datetime = df_datetime[df_datetime >= self.train_min_date]\n",
    "\n",
    "        date_range = self.date_range[(self.date_range >= df_datetime.min()) & \n",
    "                                     (self.date_range <= df_datetime.max())]\n",
    "\n",
    "        return max(0, len(date_range) - 1)\n"
   ]
  },
  {
   "cell_type": "code",
   "execution_count": 7,
   "metadata": {},
   "outputs": [],
   "source": [
    "def get_coo_matrix(df, \n",
    "                   user_col='user_id', \n",
    "                   item_col='item_id', \n",
    "                   weight_col=None, \n",
    "                   users_mapping={}, \n",
    "                   items_mapping={}):\n",
    "    \n",
    "    if weight_col is None:\n",
    "        weights = np.ones(len(df), dtype=np.float32)\n",
    "    else:\n",
    "        weights = df[weight_col].astype(np.float32)\n",
    "\n",
    "    interaction_matrix = sp.coo_matrix((\n",
    "        weights, \n",
    "        (\n",
    "            df[user_col].map(users_mapping.get), \n",
    "            df[item_col].map(items_mapping.get)\n",
    "        )\n",
    "    ))\n",
    "    return interaction_matrix"
   ]
  },
  {
   "cell_type": "code",
   "execution_count": 8,
   "metadata": {},
   "outputs": [],
   "source": [
    "def generate_implicit_recs_mapper(\n",
    "    model: ItemItemRecommender,\n",
    "    train_matrix: sp.csr_matrix,\n",
    "    top_N: int,\n",
    "    user_mapping: dict,\n",
    "    item_inv_mapping: dict,\n",
    "    filter_already_liked_items: bool\n",
    "):\n",
    "    def _recs_mapper(user):\n",
    "        user_id = user_mapping[user]\n",
    "        recs = model.recommend(user_id, \n",
    "                               train_matrix, \n",
    "                               N=top_N, \n",
    "                               filter_already_liked_items=filter_already_liked_items)\n",
    "        return [item_inv_mapping[item] for item, _ in recs]\n",
    "    return _recs_mapper"
   ]
  },
  {
   "cell_type": "markdown",
   "metadata": {},
   "source": [
    "## Getting data"
   ]
  },
  {
   "cell_type": "code",
   "execution_count": 11,
   "metadata": {},
   "outputs": [],
   "source": [
    "users_df = pd.read_csv('../data/raw/users.csv',)\n",
    "items_df = pd.read_csv('../data/interim/5k_selected_items.csv',)\n",
    "interactions_df = pd.read_csv('../data/interim/selected_interactions.csv', parse_dates=['last_watch_dt'])"
   ]
  },
  {
   "cell_type": "markdown",
   "metadata": {},
   "source": [
    "# Baseline - популярное"
   ]
  },
  {
   "cell_type": "code",
   "execution_count": 12,
   "metadata": {},
   "outputs": [],
   "source": [
    "class PopularRecommender():\n",
    "    def __init__(self, max_K=10, days=30, item_column='item_id', dt_column='date'):\n",
    "        self.max_K = max_K\n",
    "        self.days = days\n",
    "        self.item_column = item_column\n",
    "        self.dt_column = dt_column\n",
    "        self.recommendations = []\n",
    "        \n",
    "    def fit(self, df:pd.DataFrame):\n",
    "        min_date = df[self.dt_column].max().normalize() - pd.DateOffset(days=self.days)\n",
    "        self.recommendations = df.loc[df[self.dt_column] > min_date, self.item_column].value_counts().head(self.max_K).index.values\n",
    "    \n",
    "    def recommend(self, users=None, N=10):\n",
    "        recs = self.recommendations[:N]\n",
    "        if users is None:\n",
    "            return recs\n",
    "        else:\n",
    "            return list(islice(cycle([recs]), len(users)))"
   ]
  },
  {
   "cell_type": "markdown",
   "metadata": {},
   "source": [
    "### Пример на одном фолде"
   ]
  },
  {
   "cell_type": "code",
   "execution_count": 13,
   "metadata": {},
   "outputs": [],
   "source": [
    "test = interactions_df[interactions_df['last_watch_dt'] == interactions_df['last_watch_dt'].max()]\n",
    "train = interactions_df[interactions_df['last_watch_dt'] < interactions_df['last_watch_dt'].max()]"
   ]
  },
  {
   "cell_type": "code",
   "execution_count": 14,
   "metadata": {},
   "outputs": [],
   "source": [
    "pop_model = PopularRecommender(days=7, dt_column='last_watch_dt')\n",
    "pop_model.fit(train)"
   ]
  },
  {
   "cell_type": "code",
   "execution_count": 20,
   "metadata": {},
   "outputs": [],
   "source": [
    "item_titles = pd.Series(items_df['title'].values, index=items_df['item_id']).to_dict()"
   ]
  },
  {
   "cell_type": "code",
   "execution_count": 21,
   "metadata": {},
   "outputs": [
    {
     "data": {
      "text/plain": [
       "['Гнев человеческий',\n",
       " 'Клиника счастья',\n",
       " 'Хрустальный',\n",
       " 'Девятаев',\n",
       " 'Круэлла',\n",
       " 'Мастер меча',\n",
       " 'Фемида видит',\n",
       " 'Лето - это море',\n",
       " 'Рядовой Чээрин',\n",
       " 'Секреты семейной жизни']"
      ]
     },
     "execution_count": 21,
     "metadata": {},
     "output_type": "execute_result"
    }
   ],
   "source": [
    "list(map(item_titles.get, top10_recs))"
   ]
  },
  {
   "cell_type": "code",
   "execution_count": 22,
   "metadata": {},
   "outputs": [
    {
     "data": {
      "text/html": [
       "<div>\n",
       "<style scoped>\n",
       "    .dataframe tbody tr th:only-of-type {\n",
       "        vertical-align: middle;\n",
       "    }\n",
       "\n",
       "    .dataframe tbody tr th {\n",
       "        vertical-align: top;\n",
       "    }\n",
       "\n",
       "    .dataframe thead th {\n",
       "        text-align: right;\n",
       "    }\n",
       "</style>\n",
       "<table border=\"1\" class=\"dataframe\">\n",
       "  <thead>\n",
       "    <tr style=\"text-align: right;\">\n",
       "      <th></th>\n",
       "      <th>user_id</th>\n",
       "      <th>item_id</th>\n",
       "    </tr>\n",
       "  </thead>\n",
       "  <tbody>\n",
       "    <tr>\n",
       "      <th>0</th>\n",
       "      <td>203219</td>\n",
       "      <td>[9728, 15297, 10440, 13865, 12360, 14488, 1219...</td>\n",
       "    </tr>\n",
       "    <tr>\n",
       "      <th>1</th>\n",
       "      <td>125519</td>\n",
       "      <td>[9728, 15297, 10440, 13865, 12360, 14488, 1219...</td>\n",
       "    </tr>\n",
       "    <tr>\n",
       "      <th>2</th>\n",
       "      <td>626036</td>\n",
       "      <td>[9728, 15297, 10440, 13865, 12360, 14488, 1219...</td>\n",
       "    </tr>\n",
       "    <tr>\n",
       "      <th>3</th>\n",
       "      <td>1029980</td>\n",
       "      <td>[9728, 15297, 10440, 13865, 12360, 14488, 1219...</td>\n",
       "    </tr>\n",
       "    <tr>\n",
       "      <th>4</th>\n",
       "      <td>830261</td>\n",
       "      <td>[9728, 15297, 10440, 13865, 12360, 14488, 1219...</td>\n",
       "    </tr>\n",
       "  </tbody>\n",
       "</table>\n",
       "</div>"
      ],
      "text/plain": [
       "   user_id                                            item_id\n",
       "0   203219  [9728, 15297, 10440, 13865, 12360, 14488, 1219...\n",
       "1   125519  [9728, 15297, 10440, 13865, 12360, 14488, 1219...\n",
       "2   626036  [9728, 15297, 10440, 13865, 12360, 14488, 1219...\n",
       "3  1029980  [9728, 15297, 10440, 13865, 12360, 14488, 1219...\n",
       "4   830261  [9728, 15297, 10440, 13865, 12360, 14488, 1219..."
      ]
     },
     "execution_count": 22,
     "metadata": {},
     "output_type": "execute_result"
    }
   ],
   "source": [
    "recs = pd.DataFrame({'user_id': test['user_id'].unique()})\n",
    "top_N = 10\n",
    "recs['item_id'] = pop_model.recommend(recs['user_id'], N=top_N)\n",
    "recs.head()"
   ]
  },
  {
   "cell_type": "code",
   "execution_count": 23,
   "metadata": {},
   "outputs": [],
   "source": [
    "recs = recs.explode('item_id')"
   ]
  },
  {
   "cell_type": "code",
   "execution_count": 24,
   "metadata": {},
   "outputs": [
    {
     "data": {
      "text/html": [
       "<div>\n",
       "<style scoped>\n",
       "    .dataframe tbody tr th:only-of-type {\n",
       "        vertical-align: middle;\n",
       "    }\n",
       "\n",
       "    .dataframe tbody tr th {\n",
       "        vertical-align: top;\n",
       "    }\n",
       "\n",
       "    .dataframe thead th {\n",
       "        text-align: right;\n",
       "    }\n",
       "</style>\n",
       "<table border=\"1\" class=\"dataframe\">\n",
       "  <thead>\n",
       "    <tr style=\"text-align: right;\">\n",
       "      <th></th>\n",
       "      <th>user_id</th>\n",
       "      <th>item_id</th>\n",
       "      <th>rank</th>\n",
       "    </tr>\n",
       "  </thead>\n",
       "  <tbody>\n",
       "    <tr>\n",
       "      <th>0</th>\n",
       "      <td>203219</td>\n",
       "      <td>9728</td>\n",
       "      <td>1</td>\n",
       "    </tr>\n",
       "    <tr>\n",
       "      <th>0</th>\n",
       "      <td>203219</td>\n",
       "      <td>15297</td>\n",
       "      <td>2</td>\n",
       "    </tr>\n",
       "    <tr>\n",
       "      <th>0</th>\n",
       "      <td>203219</td>\n",
       "      <td>10440</td>\n",
       "      <td>3</td>\n",
       "    </tr>\n",
       "    <tr>\n",
       "      <th>0</th>\n",
       "      <td>203219</td>\n",
       "      <td>13865</td>\n",
       "      <td>4</td>\n",
       "    </tr>\n",
       "    <tr>\n",
       "      <th>0</th>\n",
       "      <td>203219</td>\n",
       "      <td>12360</td>\n",
       "      <td>5</td>\n",
       "    </tr>\n",
       "    <tr>\n",
       "      <th>0</th>\n",
       "      <td>203219</td>\n",
       "      <td>14488</td>\n",
       "      <td>6</td>\n",
       "    </tr>\n",
       "    <tr>\n",
       "      <th>0</th>\n",
       "      <td>203219</td>\n",
       "      <td>12192</td>\n",
       "      <td>7</td>\n",
       "    </tr>\n",
       "    <tr>\n",
       "      <th>0</th>\n",
       "      <td>203219</td>\n",
       "      <td>341</td>\n",
       "      <td>8</td>\n",
       "    </tr>\n",
       "    <tr>\n",
       "      <th>0</th>\n",
       "      <td>203219</td>\n",
       "      <td>512</td>\n",
       "      <td>9</td>\n",
       "    </tr>\n",
       "    <tr>\n",
       "      <th>0</th>\n",
       "      <td>203219</td>\n",
       "      <td>4151</td>\n",
       "      <td>10</td>\n",
       "    </tr>\n",
       "    <tr>\n",
       "      <th>1</th>\n",
       "      <td>125519</td>\n",
       "      <td>9728</td>\n",
       "      <td>1</td>\n",
       "    </tr>\n",
       "    <tr>\n",
       "      <th>1</th>\n",
       "      <td>125519</td>\n",
       "      <td>15297</td>\n",
       "      <td>2</td>\n",
       "    </tr>\n",
       "  </tbody>\n",
       "</table>\n",
       "</div>"
      ],
      "text/plain": [
       "   user_id item_id  rank\n",
       "0   203219    9728     1\n",
       "0   203219   15297     2\n",
       "0   203219   10440     3\n",
       "0   203219   13865     4\n",
       "0   203219   12360     5\n",
       "0   203219   14488     6\n",
       "0   203219   12192     7\n",
       "0   203219     341     8\n",
       "0   203219     512     9\n",
       "0   203219    4151    10\n",
       "1   125519    9728     1\n",
       "1   125519   15297     2"
      ]
     },
     "execution_count": 24,
     "metadata": {},
     "output_type": "execute_result"
    }
   ],
   "source": [
    "recs['rank'] = recs.groupby('user_id').cumcount() + 1\n",
    "recs.head(top_N + 2)"
   ]
  },
  {
   "cell_type": "code",
   "execution_count": 25,
   "metadata": {},
   "outputs": [],
   "source": [
    "top_n = 10\n",
    "recommendations = recs\n",
    "train_interactions = train\n",
    "users = recommendations['user_id'].unique()\n",
    "n_users = train_interactions['user_id'].nunique()\n",
    "n_users_per_item = train_interactions.groupby('item_id')['user_id'].nunique()\n",
    "\n",
    "recommendations = recommendations.loc[recommendations['rank'] <= top_n].copy()\n",
    "recommendations['n_users_per_item'] = recommendations['item_id'].map(n_users_per_item)\n",
    "recommendations['n_users_per_item'] = recommendations['n_users_per_item'].fillna(1)\n",
    "recommendations['item_novelty'] = -np.log2(recommendations['n_users_per_item'] / n_users)\n",
    "\n",
    "item_novelties = recommendations[['user_id', 'rank', 'item_novelty']]\n",
    "\n",
    "miuf_at_k = item_novelties.loc[item_novelties['rank'] <= top_n, ['user_id', 'item_novelty']]\n",
    "miuf_at_k = miuf_at_k.groupby('user_id').agg('mean').squeeze()\n",
    "\n",
    "# return miuf_at_k.reindex(users).mean()"
   ]
  },
  {
   "cell_type": "markdown",
   "metadata": {},
   "source": [
    "# Валидация на фолдах\n",
    "\n",
    "Возьмем 3 последние недели из наших данных, и будем тестировать на них последовательно (1 test fold - 1 неделя).\n",
    "\n",
    "Не забывайте про проблему холодного старта."
   ]
  },
  {
   "cell_type": "code",
   "execution_count": 26,
   "metadata": {},
   "outputs": [
    {
     "data": {
      "text/plain": [
       "(Timestamp('2021-07-18 00:00:00'), Timestamp('2021-08-22 00:00:00'))"
      ]
     },
     "execution_count": 26,
     "metadata": {},
     "output_type": "execute_result"
    }
   ],
   "source": [
    "last_date = interactions_df['last_watch_dt'].max().normalize()\n",
    "folds = 5\n",
    "start_date = last_date - pd.Timedelta(days=folds*7)\n",
    "start_date, last_date"
   ]
  },
  {
   "cell_type": "code",
   "execution_count": 27,
   "metadata": {},
   "outputs": [
    {
     "data": {
      "text/plain": [
       "(5, 5)"
      ]
     },
     "execution_count": 27,
     "metadata": {},
     "output_type": "execute_result"
    }
   ],
   "source": [
    "cv = TimeRangeSplit(start_date=start_date, periods=folds+1, freq='W')\n",
    "\n",
    "cv.max_n_splits, cv.get_n_splits(interactions_df, datetime_column='last_watch_dt')"
   ]
  },
  {
   "cell_type": "code",
   "execution_count": 28,
   "metadata": {},
   "outputs": [
    {
     "data": {
      "text/plain": [
       "DatetimeIndex(['2021-07-18', '2021-07-25', '2021-08-01', '2021-08-08',\n",
       "               '2021-08-15', '2021-08-22'],\n",
       "              dtype='datetime64[ns]', freq='W-SUN')"
      ]
     },
     "execution_count": 28,
     "metadata": {},
     "output_type": "execute_result"
    }
   ],
   "source": [
    "cv.date_range"
   ]
  },
  {
   "cell_type": "code",
   "execution_count": 29,
   "metadata": {},
   "outputs": [
    {
     "name": "stdout",
     "output_type": "stream",
     "text": [
      "Already seen number: 0\n",
      "Already seen number: 0\n",
      "Already seen number: 0\n",
      "Already seen number: 0\n",
      "Already seen number: 0\n"
     ]
    }
   ],
   "source": [
    "folds_with_stats = list(cv.split(\n",
    "    interactions_df, \n",
    "    user_column='user_id',\n",
    "    item_column='item_id',\n",
    "    datetime_column='last_watch_dt',\n",
    "    fold_stats=True\n",
    "))\n",
    "\n",
    "folds_info_with_stats = pd.DataFrame([info for _, _, info in folds_with_stats])"
   ]
  },
  {
   "cell_type": "code",
   "execution_count": 30,
   "metadata": {},
   "outputs": [
    {
     "data": {
      "text/html": [
       "<div>\n",
       "<style scoped>\n",
       "    .dataframe tbody tr th:only-of-type {\n",
       "        vertical-align: middle;\n",
       "    }\n",
       "\n",
       "    .dataframe tbody tr th {\n",
       "        vertical-align: top;\n",
       "    }\n",
       "\n",
       "    .dataframe thead th {\n",
       "        text-align: right;\n",
       "    }\n",
       "</style>\n",
       "<table border=\"1\" class=\"dataframe\">\n",
       "  <thead>\n",
       "    <tr style=\"text-align: right;\">\n",
       "      <th></th>\n",
       "      <th>Start date</th>\n",
       "      <th>End date</th>\n",
       "      <th>Train</th>\n",
       "      <th>New users</th>\n",
       "      <th>New users interactions</th>\n",
       "      <th>New items</th>\n",
       "      <th>New items interactions</th>\n",
       "      <th>Known interactions</th>\n",
       "      <th>Test</th>\n",
       "    </tr>\n",
       "  </thead>\n",
       "  <tbody>\n",
       "    <tr>\n",
       "      <th>0</th>\n",
       "      <td>2021-07-18</td>\n",
       "      <td>2021-07-25</td>\n",
       "      <td>3429937</td>\n",
       "      <td>47429</td>\n",
       "      <td>98055</td>\n",
       "      <td>15</td>\n",
       "      <td>2045</td>\n",
       "      <td>0</td>\n",
       "      <td>227607</td>\n",
       "    </tr>\n",
       "    <tr>\n",
       "      <th>1</th>\n",
       "      <td>2021-07-25</td>\n",
       "      <td>2021-08-01</td>\n",
       "      <td>3757644</td>\n",
       "      <td>53957</td>\n",
       "      <td>111295</td>\n",
       "      <td>28</td>\n",
       "      <td>4069</td>\n",
       "      <td>0</td>\n",
       "      <td>245612</td>\n",
       "    </tr>\n",
       "    <tr>\n",
       "      <th>2</th>\n",
       "      <td>2021-08-01</td>\n",
       "      <td>2021-08-08</td>\n",
       "      <td>4118620</td>\n",
       "      <td>53329</td>\n",
       "      <td>112030</td>\n",
       "      <td>62</td>\n",
       "      <td>6794</td>\n",
       "      <td>0</td>\n",
       "      <td>259979</td>\n",
       "    </tr>\n",
       "    <tr>\n",
       "      <th>3</th>\n",
       "      <td>2021-08-08</td>\n",
       "      <td>2021-08-15</td>\n",
       "      <td>4497423</td>\n",
       "      <td>54613</td>\n",
       "      <td>110815</td>\n",
       "      <td>50</td>\n",
       "      <td>8989</td>\n",
       "      <td>0</td>\n",
       "      <td>272400</td>\n",
       "    </tr>\n",
       "    <tr>\n",
       "      <th>4</th>\n",
       "      <td>2021-08-15</td>\n",
       "      <td>2021-08-22</td>\n",
       "      <td>4889627</td>\n",
       "      <td>55946</td>\n",
       "      <td>115944</td>\n",
       "      <td>30</td>\n",
       "      <td>5717</td>\n",
       "      <td>0</td>\n",
       "      <td>292811</td>\n",
       "    </tr>\n",
       "  </tbody>\n",
       "</table>\n",
       "</div>"
      ],
      "text/plain": [
       "  Start date   End date    Train  New users  New users interactions  \\\n",
       "0 2021-07-18 2021-07-25  3429937      47429                   98055   \n",
       "1 2021-07-25 2021-08-01  3757644      53957                  111295   \n",
       "2 2021-08-01 2021-08-08  4118620      53329                  112030   \n",
       "3 2021-08-08 2021-08-15  4497423      54613                  110815   \n",
       "4 2021-08-15 2021-08-22  4889627      55946                  115944   \n",
       "\n",
       "   New items  New items interactions  Known interactions    Test  \n",
       "0         15                    2045                   0  227607  \n",
       "1         28                    4069                   0  245612  \n",
       "2         62                    6794                   0  259979  \n",
       "3         50                    8989                   0  272400  \n",
       "4         30                    5717                   0  292811  "
      ]
     },
     "execution_count": 30,
     "metadata": {},
     "output_type": "execute_result"
    }
   ],
   "source": [
    "folds_info_with_stats"
   ]
  },
  {
   "cell_type": "markdown",
   "metadata": {},
   "source": [
    "# Популярное на фолдах"
   ]
  },
  {
   "cell_type": "code",
   "execution_count": 31,
   "metadata": {},
   "outputs": [],
   "source": [
    "top_N = 10\n",
    "last_n_days = 7"
   ]
  },
  {
   "cell_type": "code",
   "execution_count": 32,
   "metadata": {
    "scrolled": true
   },
   "outputs": [],
   "source": [
    "final_results = []\n",
    "validation_results = pd.DataFrame()\n",
    "\n",
    "for train_idx, test_idx, info in folds_with_stats:\n",
    "    train = interactions_df.loc[train_idx]\n",
    "    test = interactions_df.loc[test_idx]\n",
    "        \n",
    "    pop_model = PopularRecommender(days=last_n_days, dt_column='last_watch_dt')\n",
    "    pop_model.fit(train)\n",
    "\n",
    "    recs = pd.DataFrame({'user_id': test['user_id'].unique()})\n",
    "    recs['item_id'] = pop_model.recommend(recs['user_id'], N=top_N)\n",
    "    recs = recs.explode('item_id')\n",
    "    recs['rank' ] = recs.groupby('user_id').cumcount() + 1\n",
    "\n",
    "    fold_result = compute_metrics(train, test, recs, top_N)\n",
    "\n",
    "    validation_results = pd.concat([validation_results, fold_result], axis=1)\n",
    "    break"
   ]
  },
  {
   "cell_type": "code",
   "execution_count": 33,
   "metadata": {},
   "outputs": [
    {
     "data": {
      "text/plain": [
       "MAP@10        0.091109\n",
       "Novelty@10    3.817011\n",
       "dtype: float64"
      ]
     },
     "execution_count": 33,
     "metadata": {},
     "output_type": "execute_result"
    }
   ],
   "source": [
    "validation_results.mean(axis=1).loc[['MAP@10', 'Novelty@10']]"
   ]
  },
  {
   "cell_type": "markdown",
   "metadata": {},
   "source": [
    "# Соцдем популярное "
   ]
  },
  {
   "cell_type": "markdown",
   "metadata": {},
   "source": [
    "Посмотрим, имеет ли смысл предсказывать популярное в зависимости от соц.группы"
   ]
  },
  {
   "cell_type": "code",
   "execution_count": 36,
   "metadata": {},
   "outputs": [],
   "source": [
    "train_idx, test_idx, info = folds_with_stats[0]\n",
    "train = interactions_df.loc[train_idx]\n",
    "test = interactions_df.loc[test_idx]\n",
    "date_window_for_popular = train['last_watch_dt'].max() - pd.DateOffset(days=last_n_days)\n",
    "train_slice = pd.merge(train[train['last_watch_dt'] >= date_window_for_popular], users_df, on='user_id', how='left')"
   ]
  },
  {
   "cell_type": "markdown",
   "metadata": {},
   "source": [
    "Как мы помним из предыдущего ноутбука, у нас есть пользователи без фичей, поэтому для них надо определить заполнение "
   ]
  },
  {
   "cell_type": "code",
   "execution_count": 37,
   "metadata": {},
   "outputs": [
    {
     "data": {
      "text/html": [
       "<div>\n",
       "<style scoped>\n",
       "    .dataframe tbody tr th:only-of-type {\n",
       "        vertical-align: middle;\n",
       "    }\n",
       "\n",
       "    .dataframe tbody tr th {\n",
       "        vertical-align: top;\n",
       "    }\n",
       "\n",
       "    .dataframe thead th {\n",
       "        text-align: right;\n",
       "    }\n",
       "</style>\n",
       "<table border=\"1\" class=\"dataframe\">\n",
       "  <thead>\n",
       "    <tr style=\"text-align: right;\">\n",
       "      <th></th>\n",
       "      <th>user_id</th>\n",
       "      <th>item_id</th>\n",
       "      <th>last_watch_dt</th>\n",
       "      <th>total_dur</th>\n",
       "      <th>watched_pct</th>\n",
       "      <th>age</th>\n",
       "      <th>income</th>\n",
       "      <th>sex</th>\n",
       "      <th>kids_flg</th>\n",
       "    </tr>\n",
       "  </thead>\n",
       "  <tbody>\n",
       "    <tr>\n",
       "      <th>0</th>\n",
       "      <td>616003</td>\n",
       "      <td>13865</td>\n",
       "      <td>2021-07-17</td>\n",
       "      <td>131</td>\n",
       "      <td>2.0</td>\n",
       "      <td>NaN</td>\n",
       "      <td>NaN</td>\n",
       "      <td>NaN</td>\n",
       "      <td>NaN</td>\n",
       "    </tr>\n",
       "    <tr>\n",
       "      <th>1</th>\n",
       "      <td>985101</td>\n",
       "      <td>4566</td>\n",
       "      <td>2021-07-16</td>\n",
       "      <td>420</td>\n",
       "      <td>34.0</td>\n",
       "      <td>NaN</td>\n",
       "      <td>NaN</td>\n",
       "      <td>NaN</td>\n",
       "      <td>NaN</td>\n",
       "    </tr>\n",
       "    <tr>\n",
       "      <th>2</th>\n",
       "      <td>787115</td>\n",
       "      <td>11835</td>\n",
       "      <td>2021-07-10</td>\n",
       "      <td>3283</td>\n",
       "      <td>54.0</td>\n",
       "      <td>age_25_34</td>\n",
       "      <td>income_60_90</td>\n",
       "      <td>Ж</td>\n",
       "      <td>0.0</td>\n",
       "    </tr>\n",
       "    <tr>\n",
       "      <th>3</th>\n",
       "      <td>804607</td>\n",
       "      <td>5220</td>\n",
       "      <td>2021-07-11</td>\n",
       "      <td>171</td>\n",
       "      <td>0.0</td>\n",
       "      <td>age_25_34</td>\n",
       "      <td>income_40_60</td>\n",
       "      <td>Ж</td>\n",
       "      <td>0.0</td>\n",
       "    </tr>\n",
       "    <tr>\n",
       "      <th>4</th>\n",
       "      <td>312347</td>\n",
       "      <td>3017</td>\n",
       "      <td>2021-07-13</td>\n",
       "      <td>6121</td>\n",
       "      <td>100.0</td>\n",
       "      <td>age_45_54</td>\n",
       "      <td>income_20_40</td>\n",
       "      <td>Ж</td>\n",
       "      <td>1.0</td>\n",
       "    </tr>\n",
       "  </tbody>\n",
       "</table>\n",
       "</div>"
      ],
      "text/plain": [
       "   user_id  item_id last_watch_dt  total_dur  watched_pct        age  \\\n",
       "0   616003    13865    2021-07-17        131          2.0        NaN   \n",
       "1   985101     4566    2021-07-16        420         34.0        NaN   \n",
       "2   787115    11835    2021-07-10       3283         54.0  age_25_34   \n",
       "3   804607     5220    2021-07-11        171          0.0  age_25_34   \n",
       "4   312347     3017    2021-07-13       6121        100.0  age_45_54   \n",
       "\n",
       "         income  sex  kids_flg  \n",
       "0           NaN  NaN       NaN  \n",
       "1           NaN  NaN       NaN  \n",
       "2  income_60_90    Ж       0.0  \n",
       "3  income_40_60    Ж       0.0  \n",
       "4  income_20_40    Ж       1.0  "
      ]
     },
     "execution_count": 37,
     "metadata": {},
     "output_type": "execute_result"
    }
   ],
   "source": [
    "train_slice.head()"
   ]
  },
  {
   "cell_type": "code",
   "execution_count": 38,
   "metadata": {},
   "outputs": [],
   "source": [
    "train_slice.fillna({'age':'age_unknown',\n",
    "                    'sex':'sex_unknown',\n",
    "                    'income': 'income_unknown',\n",
    "                    'kids_flg': False\n",
    "                   }, inplace=True)"
   ]
  },
  {
   "cell_type": "markdown",
   "metadata": {},
   "source": [
    "Например, можно смотреть популярное в разрезе возраста, пола и наличия детей"
   ]
  },
  {
   "cell_type": "code",
   "execution_count": 39,
   "metadata": {},
   "outputs": [
    {
     "data": {
      "text/html": [
       "<div>\n",
       "<style scoped>\n",
       "    .dataframe tbody tr th:only-of-type {\n",
       "        vertical-align: middle;\n",
       "    }\n",
       "\n",
       "    .dataframe tbody tr th {\n",
       "        vertical-align: top;\n",
       "    }\n",
       "\n",
       "    .dataframe thead th {\n",
       "        text-align: right;\n",
       "    }\n",
       "</style>\n",
       "<table border=\"1\" class=\"dataframe\">\n",
       "  <thead>\n",
       "    <tr style=\"text-align: right;\">\n",
       "      <th></th>\n",
       "      <th>user_id</th>\n",
       "      <th>item_id</th>\n",
       "      <th>last_watch_dt</th>\n",
       "      <th>total_dur</th>\n",
       "      <th>watched_pct</th>\n",
       "      <th>age</th>\n",
       "      <th>income</th>\n",
       "      <th>sex</th>\n",
       "      <th>kids_flg</th>\n",
       "    </tr>\n",
       "  </thead>\n",
       "  <tbody>\n",
       "    <tr>\n",
       "      <th>0</th>\n",
       "      <td>616003</td>\n",
       "      <td>13865</td>\n",
       "      <td>2021-07-17</td>\n",
       "      <td>131</td>\n",
       "      <td>2.0</td>\n",
       "      <td>age_unknown</td>\n",
       "      <td>income_unknown</td>\n",
       "      <td>sex_unknown</td>\n",
       "      <td>False</td>\n",
       "    </tr>\n",
       "    <tr>\n",
       "      <th>1</th>\n",
       "      <td>985101</td>\n",
       "      <td>4566</td>\n",
       "      <td>2021-07-16</td>\n",
       "      <td>420</td>\n",
       "      <td>34.0</td>\n",
       "      <td>age_unknown</td>\n",
       "      <td>income_unknown</td>\n",
       "      <td>sex_unknown</td>\n",
       "      <td>False</td>\n",
       "    </tr>\n",
       "    <tr>\n",
       "      <th>2</th>\n",
       "      <td>787115</td>\n",
       "      <td>11835</td>\n",
       "      <td>2021-07-10</td>\n",
       "      <td>3283</td>\n",
       "      <td>54.0</td>\n",
       "      <td>age_25_34</td>\n",
       "      <td>income_60_90</td>\n",
       "      <td>Ж</td>\n",
       "      <td>0.0</td>\n",
       "    </tr>\n",
       "    <tr>\n",
       "      <th>3</th>\n",
       "      <td>804607</td>\n",
       "      <td>5220</td>\n",
       "      <td>2021-07-11</td>\n",
       "      <td>171</td>\n",
       "      <td>0.0</td>\n",
       "      <td>age_25_34</td>\n",
       "      <td>income_40_60</td>\n",
       "      <td>Ж</td>\n",
       "      <td>0.0</td>\n",
       "    </tr>\n",
       "    <tr>\n",
       "      <th>4</th>\n",
       "      <td>312347</td>\n",
       "      <td>3017</td>\n",
       "      <td>2021-07-13</td>\n",
       "      <td>6121</td>\n",
       "      <td>100.0</td>\n",
       "      <td>age_45_54</td>\n",
       "      <td>income_20_40</td>\n",
       "      <td>Ж</td>\n",
       "      <td>1.0</td>\n",
       "    </tr>\n",
       "  </tbody>\n",
       "</table>\n",
       "</div>"
      ],
      "text/plain": [
       "   user_id  item_id last_watch_dt  total_dur  watched_pct          age  \\\n",
       "0   616003    13865    2021-07-17        131          2.0  age_unknown   \n",
       "1   985101     4566    2021-07-16        420         34.0  age_unknown   \n",
       "2   787115    11835    2021-07-10       3283         54.0    age_25_34   \n",
       "3   804607     5220    2021-07-11        171          0.0    age_25_34   \n",
       "4   312347     3017    2021-07-13       6121        100.0    age_45_54   \n",
       "\n",
       "           income          sex kids_flg  \n",
       "0  income_unknown  sex_unknown    False  \n",
       "1  income_unknown  sex_unknown    False  \n",
       "2    income_60_90            Ж      0.0  \n",
       "3    income_40_60            Ж      0.0  \n",
       "4    income_20_40            Ж      1.0  "
      ]
     },
     "execution_count": 39,
     "metadata": {},
     "output_type": "execute_result"
    }
   ],
   "source": [
    "train_slice.head()"
   ]
  },
  {
   "cell_type": "code",
   "execution_count": 40,
   "metadata": {},
   "outputs": [],
   "source": [
    "soc_dem_recommendations = train_slice.groupby(\n",
    "    ['age', 'sex', 'income', 'item_id']\n",
    ").size().to_frame().reset_index()"
   ]
  },
  {
   "cell_type": "code",
   "execution_count": 41,
   "metadata": {},
   "outputs": [
    {
     "data": {
      "text/html": [
       "<div>\n",
       "<style scoped>\n",
       "    .dataframe tbody tr th:only-of-type {\n",
       "        vertical-align: middle;\n",
       "    }\n",
       "\n",
       "    .dataframe tbody tr th {\n",
       "        vertical-align: top;\n",
       "    }\n",
       "\n",
       "    .dataframe thead th {\n",
       "        text-align: right;\n",
       "    }\n",
       "</style>\n",
       "<table border=\"1\" class=\"dataframe\">\n",
       "  <thead>\n",
       "    <tr style=\"text-align: right;\">\n",
       "      <th></th>\n",
       "      <th>age</th>\n",
       "      <th>sex</th>\n",
       "      <th>income</th>\n",
       "      <th>item_id</th>\n",
       "      <th>0</th>\n",
       "    </tr>\n",
       "  </thead>\n",
       "  <tbody>\n",
       "    <tr>\n",
       "      <th>0</th>\n",
       "      <td>age_18_24</td>\n",
       "      <td>sex_unknown</td>\n",
       "      <td>income_0_20</td>\n",
       "      <td>35</td>\n",
       "      <td>1</td>\n",
       "    </tr>\n",
       "    <tr>\n",
       "      <th>1</th>\n",
       "      <td>age_18_24</td>\n",
       "      <td>sex_unknown</td>\n",
       "      <td>income_0_20</td>\n",
       "      <td>372</td>\n",
       "      <td>1</td>\n",
       "    </tr>\n",
       "    <tr>\n",
       "      <th>2</th>\n",
       "      <td>age_18_24</td>\n",
       "      <td>sex_unknown</td>\n",
       "      <td>income_0_20</td>\n",
       "      <td>565</td>\n",
       "      <td>1</td>\n",
       "    </tr>\n",
       "    <tr>\n",
       "      <th>3</th>\n",
       "      <td>age_18_24</td>\n",
       "      <td>sex_unknown</td>\n",
       "      <td>income_0_20</td>\n",
       "      <td>1399</td>\n",
       "      <td>1</td>\n",
       "    </tr>\n",
       "    <tr>\n",
       "      <th>4</th>\n",
       "      <td>age_18_24</td>\n",
       "      <td>sex_unknown</td>\n",
       "      <td>income_0_20</td>\n",
       "      <td>1736</td>\n",
       "      <td>1</td>\n",
       "    </tr>\n",
       "    <tr>\n",
       "      <th>...</th>\n",
       "      <td>...</td>\n",
       "      <td>...</td>\n",
       "      <td>...</td>\n",
       "      <td>...</td>\n",
       "      <td>...</td>\n",
       "    </tr>\n",
       "    <tr>\n",
       "      <th>63603</th>\n",
       "      <td>age_unknown</td>\n",
       "      <td>М</td>\n",
       "      <td>income_unknown</td>\n",
       "      <td>16217</td>\n",
       "      <td>1</td>\n",
       "    </tr>\n",
       "    <tr>\n",
       "      <th>63604</th>\n",
       "      <td>age_unknown</td>\n",
       "      <td>М</td>\n",
       "      <td>income_unknown</td>\n",
       "      <td>16237</td>\n",
       "      <td>1</td>\n",
       "    </tr>\n",
       "    <tr>\n",
       "      <th>63605</th>\n",
       "      <td>age_unknown</td>\n",
       "      <td>М</td>\n",
       "      <td>income_unknown</td>\n",
       "      <td>16270</td>\n",
       "      <td>2</td>\n",
       "    </tr>\n",
       "    <tr>\n",
       "      <th>63606</th>\n",
       "      <td>age_unknown</td>\n",
       "      <td>М</td>\n",
       "      <td>income_unknown</td>\n",
       "      <td>16406</td>\n",
       "      <td>1</td>\n",
       "    </tr>\n",
       "    <tr>\n",
       "      <th>63607</th>\n",
       "      <td>age_unknown</td>\n",
       "      <td>М</td>\n",
       "      <td>income_unknown</td>\n",
       "      <td>16494</td>\n",
       "      <td>1</td>\n",
       "    </tr>\n",
       "  </tbody>\n",
       "</table>\n",
       "<p>63608 rows × 5 columns</p>\n",
       "</div>"
      ],
      "text/plain": [
       "               age          sex          income  item_id  0\n",
       "0        age_18_24  sex_unknown     income_0_20       35  1\n",
       "1        age_18_24  sex_unknown     income_0_20      372  1\n",
       "2        age_18_24  sex_unknown     income_0_20      565  1\n",
       "3        age_18_24  sex_unknown     income_0_20     1399  1\n",
       "4        age_18_24  sex_unknown     income_0_20     1736  1\n",
       "...            ...          ...             ...      ... ..\n",
       "63603  age_unknown            М  income_unknown    16217  1\n",
       "63604  age_unknown            М  income_unknown    16237  1\n",
       "63605  age_unknown            М  income_unknown    16270  2\n",
       "63606  age_unknown            М  income_unknown    16406  1\n",
       "63607  age_unknown            М  income_unknown    16494  1\n",
       "\n",
       "[63608 rows x 5 columns]"
      ]
     },
     "execution_count": 41,
     "metadata": {},
     "output_type": "execute_result"
    }
   ],
   "source": [
    "soc_dem_recommendations"
   ]
  },
  {
   "cell_type": "markdown",
   "metadata": {},
   "source": [
    "Теперь надо просто для каждого пользователя выбрать самое популярные top_n объектов в его группе"
   ]
  },
  {
   "cell_type": "markdown",
   "metadata": {},
   "source": [
    "Можем проверить этот вариант на фолдах"
   ]
  },
  {
   "cell_type": "code",
   "execution_count": 42,
   "metadata": {},
   "outputs": [],
   "source": [
    "validation_results = pd.DataFrame()\n",
    "\n",
    "for train_idx, test_idx, info in folds_with_stats:\n",
    "    train = interactions_df.loc[train_idx]\n",
    "    test = interactions_df.loc[test_idx]\n",
    "    date_window = train['last_watch_dt'].max() - pd.DateOffset(days=last_n_days)\n",
    "    train_slice = pd.merge(train[train['last_watch_dt'] >= date_window], users_df, on='user_id', how='left')\n",
    "    \n",
    "    train_slice.fillna({\n",
    "        'age':'age_unknown',\n",
    "        'sex':'sex_unknown',\n",
    "        'income': 'income_unknown',\n",
    "        'kids_flg': False\n",
    "    },inplace=True)\n",
    "    \n",
    "    soc_dem_recommendations = train_slice.groupby(\n",
    "        ['age', 'sex', 'income', 'item_id']\n",
    "    ).size().to_frame().reset_index()\n",
    "    \n",
    "    top_soc_dem = []\n",
    "\n",
    "    for age in soc_dem_recommendations.age.unique():\n",
    "        for income in soc_dem_recommendations.income.unique():\n",
    "            for sex in soc_dem_recommendations.sex.unique():\n",
    "                top_items = soc_dem_recommendations[\n",
    "                (soc_dem_recommendations.age == age)\n",
    "                & (soc_dem_recommendations.income == income)\n",
    "                & (soc_dem_recommendations.sex == sex)].sort_values(0, ascending=False).head(10).item_id.values\n",
    "                top_soc_dem.append([age, income, sex, top_items])\n",
    "\n",
    "    top_soc_dem = pd.DataFrame(top_soc_dem, columns = ['age', 'income', 'sex', 'item_id'])\n",
    "    \n",
    "    recs = pd.DataFrame({'user_id': test['user_id'].unique()})\n",
    "    recs = pd.merge(recs[['user_id']], users_df, on='user_id', how='left')\n",
    "    recs.fillna({\n",
    "        'age':'age_unknown',\n",
    "        'sex':'sex_unknown',\n",
    "        'income': 'income_unknown',\n",
    "        'kids_flg': False\n",
    "    }, inplace=True)\n",
    "    \n",
    "    recs = pd.merge(recs, top_soc_dem, on = ['age', 'sex', 'income'], how = 'left')\n",
    "    recs = recs.drop(columns = ['age', 'sex', 'income'])\n",
    "    \n",
    "    recs = recs.explode('item_id')\n",
    "    recs['rank'] = recs.groupby('user_id').cumcount() + 1\n",
    "    fold_result = compute_metrics(train, test, recs, top_N)\n",
    "    \n",
    "    validation_results = pd.concat([validation_results, fold_result], axis=1)\n",
    "    break"
   ]
  },
  {
   "cell_type": "code",
   "execution_count": 43,
   "metadata": {},
   "outputs": [
    {
     "data": {
      "text/html": [
       "<div>\n",
       "<style scoped>\n",
       "    .dataframe tbody tr th:only-of-type {\n",
       "        vertical-align: middle;\n",
       "    }\n",
       "\n",
       "    .dataframe tbody tr th {\n",
       "        vertical-align: top;\n",
       "    }\n",
       "\n",
       "    .dataframe thead th {\n",
       "        text-align: right;\n",
       "    }\n",
       "</style>\n",
       "<table border=\"1\" class=\"dataframe\">\n",
       "  <thead>\n",
       "    <tr style=\"text-align: right;\">\n",
       "      <th></th>\n",
       "      <th>0</th>\n",
       "    </tr>\n",
       "  </thead>\n",
       "  <tbody>\n",
       "    <tr>\n",
       "      <th>Precision@1</th>\n",
       "      <td>0.073979</td>\n",
       "    </tr>\n",
       "    <tr>\n",
       "      <th>Recall@1</th>\n",
       "      <td>0.044432</td>\n",
       "    </tr>\n",
       "    <tr>\n",
       "      <th>Precision@2</th>\n",
       "      <td>0.064519</td>\n",
       "    </tr>\n",
       "    <tr>\n",
       "      <th>Recall@2</th>\n",
       "      <td>0.074883</td>\n",
       "    </tr>\n",
       "    <tr>\n",
       "      <th>Precision@3</th>\n",
       "      <td>0.057639</td>\n",
       "    </tr>\n",
       "    <tr>\n",
       "      <th>Recall@3</th>\n",
       "      <td>0.098332</td>\n",
       "    </tr>\n",
       "    <tr>\n",
       "      <th>Precision@4</th>\n",
       "      <td>0.056021</td>\n",
       "    </tr>\n",
       "    <tr>\n",
       "      <th>Recall@4</th>\n",
       "      <td>0.125527</td>\n",
       "    </tr>\n",
       "    <tr>\n",
       "      <th>Precision@5</th>\n",
       "      <td>0.053528</td>\n",
       "    </tr>\n",
       "    <tr>\n",
       "      <th>Recall@5</th>\n",
       "      <td>0.148480</td>\n",
       "    </tr>\n",
       "    <tr>\n",
       "      <th>Precision@6</th>\n",
       "      <td>0.051753</td>\n",
       "    </tr>\n",
       "    <tr>\n",
       "      <th>Recall@6</th>\n",
       "      <td>0.171455</td>\n",
       "    </tr>\n",
       "    <tr>\n",
       "      <th>Precision@7</th>\n",
       "      <td>0.050190</td>\n",
       "    </tr>\n",
       "    <tr>\n",
       "      <th>Recall@7</th>\n",
       "      <td>0.194269</td>\n",
       "    </tr>\n",
       "    <tr>\n",
       "      <th>Precision@8</th>\n",
       "      <td>0.048280</td>\n",
       "    </tr>\n",
       "    <tr>\n",
       "      <th>Recall@8</th>\n",
       "      <td>0.212441</td>\n",
       "    </tr>\n",
       "    <tr>\n",
       "      <th>Precision@9</th>\n",
       "      <td>0.045921</td>\n",
       "    </tr>\n",
       "    <tr>\n",
       "      <th>Recall@9</th>\n",
       "      <td>0.226150</td>\n",
       "    </tr>\n",
       "    <tr>\n",
       "      <th>Precision@10</th>\n",
       "      <td>0.043894</td>\n",
       "    </tr>\n",
       "    <tr>\n",
       "      <th>Recall@10</th>\n",
       "      <td>0.237825</td>\n",
       "    </tr>\n",
       "    <tr>\n",
       "      <th>MAP@10</th>\n",
       "      <td>0.095365</td>\n",
       "    </tr>\n",
       "    <tr>\n",
       "      <th>Novelty@10</th>\n",
       "      <td>3.934302</td>\n",
       "    </tr>\n",
       "  </tbody>\n",
       "</table>\n",
       "</div>"
      ],
      "text/plain": [
       "                     0\n",
       "Precision@1   0.073979\n",
       "Recall@1      0.044432\n",
       "Precision@2   0.064519\n",
       "Recall@2      0.074883\n",
       "Precision@3   0.057639\n",
       "Recall@3      0.098332\n",
       "Precision@4   0.056021\n",
       "Recall@4      0.125527\n",
       "Precision@5   0.053528\n",
       "Recall@5      0.148480\n",
       "Precision@6   0.051753\n",
       "Recall@6      0.171455\n",
       "Precision@7   0.050190\n",
       "Recall@7      0.194269\n",
       "Precision@8   0.048280\n",
       "Recall@8      0.212441\n",
       "Precision@9   0.045921\n",
       "Recall@9      0.226150\n",
       "Precision@10  0.043894\n",
       "Recall@10     0.237825\n",
       "MAP@10        0.095365\n",
       "Novelty@10    3.934302"
      ]
     },
     "execution_count": 43,
     "metadata": {},
     "output_type": "execute_result"
    }
   ],
   "source": [
    "validation_results"
   ]
  },
  {
   "cell_type": "markdown",
   "metadata": {},
   "source": [
    "В данном случае признаки, по которым вы строите популярное, подбираются, также, как и кол-во дней, которое вы берете для расчета популярного "
   ]
  },
  {
   "cell_type": "markdown",
   "metadata": {},
   "source": [
    "# Implicit Models"
   ]
  },
  {
   "cell_type": "code",
   "execution_count": 44,
   "metadata": {},
   "outputs": [],
   "source": [
    "users_inv_mapping = dict(enumerate(interactions_df['user_id'].unique()))\n",
    "users_mapping = {v: k for k, v in users_inv_mapping.items()}\n",
    "top_N = 10\n",
    "last_n_days = 7\n",
    "items_inv_mapping = dict(enumerate(interactions_df['item_id'].unique()))\n",
    "items_mapping = {v: k for k, v in items_inv_mapping.items()}"
   ]
  },
  {
   "cell_type": "code",
   "execution_count": null,
   "metadata": {},
   "outputs": [],
   "source": [
    "final_results = []\n",
    "validation_results = pd.DataFrame()\n",
    "\n",
    "for train_idx, test_idx, info in folds_with_stats:\n",
    "\ttrain = interactions_df.loc[train_idx]\n",
    "\ttest = interactions_df.loc[test_idx]\n",
    "\ttrain_sparse, test_sparse = get_coo_matrix(train, users_mapping=users_mapping, items_mapping=items_mapping).tocsr(), get_coo_matrix(test, users_mapping=users_mapping, items_mapping=items_mapping).tocsr()\n",
    "\tmodel = CosineRecommender(K=20)\n",
    "\tmodel.fit(train_sparse.T)\n",
    "\t\n",
    "\trecs = pd.DataFrame({'user_id': test['user_id'].unique()})\n",
    "\trecs['item_id'] = model.recommend(recs['user_id'], train_sparse, N=top_N)\n",
    "\trecs = recs.explode('item_id')\n",
    "\trecs['rank' ] = recs.groupby('user_id').cumcount() + 1\n",
    "\tfold_result = compute_metrics(train, test, recs, top_N)\n",
    "\tvalidation_results = pd.concat([validation_results, fold_result], axis=1)\n",
    "\tbreak"
   ]
  },
  {
   "cell_type": "markdown",
   "metadata": {},
   "source": [
    "### Implicit Cos Rec"
   ]
  },
  {
   "cell_type": "code",
   "execution_count": 137,
   "metadata": {},
   "outputs": [],
   "source": [
    "inter = np.random.binomial(1, 0.5, size=(10,10)).astype(np.float32)"
   ]
  },
  {
   "cell_type": "code",
   "execution_count": 158,
   "metadata": {},
   "outputs": [
    {
     "name": "stderr",
     "output_type": "stream",
     "text": [
      "/home/umbilnm/python_ml/venvs/graphs2/lib/python3.12/site-packages/implicit/utils.py:164: ParameterWarning: Method expects CSR input, and was passed coo_matrix instead. Converting to CSR took 0.0002033710479736328 seconds\n",
      "  warnings.warn(\n",
      "100%|██████████| 10/10 [00:00<00:00, 380.96it/s]\n"
     ]
    },
    {
     "data": {
      "text/plain": [
       "[4, 5, 0, 1, 3, 9, 8, 7, 6, 2]"
      ]
     },
     "execution_count": 158,
     "metadata": {},
     "output_type": "execute_result"
    }
   ],
   "source": [
    "model = CosineRecommender(K=20)\n",
    "model.fit(inter.T)\n",
    "[index for index in model.recommend(0, sp.csr_matrix(inter))[0]]"
   ]
  },
  {
   "cell_type": "code",
   "execution_count": null,
   "metadata": {},
   "outputs": [],
   "source": []
  }
 ],
 "metadata": {
  "kernelspec": {
   "display_name": "graphs2",
   "language": "python",
   "name": "python3"
  },
  "language_info": {
   "codemirror_mode": {
    "name": "ipython",
    "version": 3
   },
   "file_extension": ".py",
   "mimetype": "text/x-python",
   "name": "python",
   "nbconvert_exporter": "python",
   "pygments_lexer": "ipython3",
   "version": "3.12.5"
  }
 },
 "nbformat": 4,
 "nbformat_minor": 4
}
