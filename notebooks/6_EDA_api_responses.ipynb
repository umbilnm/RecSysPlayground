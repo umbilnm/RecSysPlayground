{
 "cells": [
  {
   "cell_type": "code",
   "execution_count": 1,
   "metadata": {},
   "outputs": [],
   "source": [
    "import os\n",
    "import json\n",
    "import pandas as pd\n",
    "from difflib import SequenceMatcher\n",
    "films = pd.read_csv(\"/home/umbilnm/RecSysPlayground/data/interim/5k_selected_items.csv\")\n",
    "not_found_path = \"/home/umbilnm/RecSysPlayground/data/external/not_found\"\n",
    "found_path = \"/home/umbilnm/RecSysPlayground/data/external/found_films\"\n",
    "found_films = os.listdir(found_path)\n",
    "not_found_films = os.listdir(not_found_path)"
   ]
  },
  {
   "cell_type": "markdown",
   "metadata": {},
   "source": [
    "### Russian Films With No Original Title Filtering"
   ]
  },
  {
   "cell_type": "code",
   "execution_count": 5,
   "metadata": {},
   "outputs": [],
   "source": [
    "def save_info_from_api(movie_id: int, info: dict, folder: str = \"found_films\"):\n",
    "    path = f\"/home/umbilnm/RecSysPlayground/data/external/{folder}/{movie_id}_info.json\"\n",
    "    if not os.path.exists(path):\n",
    "        try:\n",
    "            with open(path, \"w\") as f:\n",
    "                json.dump(info, f)\n",
    "        except Exception as e:\n",
    "            print(f\"Ошибка при сохранении информации для movie_id: {movie_id}. Ошибка: {e}\")\n",
    "    else:\n",
    "        print(f\"Файл {path} уже существует. Сохранение отменено.\")"
   ]
  },
  {
   "cell_type": "code",
   "execution_count": 49,
   "metadata": {},
   "outputs": [],
   "source": [
    "for film in not_found_films:\n",
    "\tcurrent_path = os.path.join(not_found_path, film)\n",
    "\titem_id = int(film.split('_')[0])\n",
    "\twith open(current_path, 'r') as f:\n",
    "\t\tdata = json.load(f)\n",
    "\n",
    "\trespone_api_df = pd.DataFrame.from_dict(data['docs'])\n",
    "\tdata = films[films['item_id'] == item_id]\n",
    "\ttitle, country, release_year = data.loc[:, ['title', 'countries','release_year']].values[0]\n",
    "\ttry:\n",
    "\t\titem = respone_api_df[(respone_api_df['name'] == title) & \n",
    "\t\t(respone_api_df['year'] == release_year) &\n",
    "\t\t(respone_api_df['countries'].apply(lambda x: x[0]['name']) == 'Россия')]\n",
    "\t\tinfo = item.iloc[0].to_dict()\n",
    "\t\tsave_info_from_api(item_id, info)\n",
    "\texcept IndexError:\n",
    "\t\tpass\n",
    "\t"
   ]
  },
  {
   "cell_type": "markdown",
   "metadata": {},
   "source": [
    "### Check Films with the same title and year    "
   ]
  },
  {
   "cell_type": "code",
   "execution_count": null,
   "metadata": {},
   "outputs": [],
   "source": [
    "for film in not_found_films:\n",
    "\tcurrent_path = os.path.join(not_found_path, film)\n",
    "\titem_id = int(film.split('_')[0])\n",
    "\twith open(current_path, 'r') as f:\n",
    "\t\tdata = json.load(f)\n",
    "\n",
    "\trespone_api_df = pd.DataFrame.from_dict(data['docs'])\n",
    "\tdata = films[films['item_id'] == item_id]\n",
    "\ttitle, country, release_year = data.loc[:, ['title', 'countries','release_year']].values[0]\n",
    "\ttry:\n",
    "\t\titem = respone_api_df[(respone_api_df['name'] == title) & \n",
    "\t\t(respone_api_df['year'] == release_year) &\n",
    "\t\t(respone_api_df['countries'].apply(lambda x: x[0]['name']) == 'Россия')]\n",
    "\t\tinfo = item.iloc[0].to_dict()\n",
    "\texcept IndexError:\n",
    "\t\tpass\n",
    "\t"
   ]
  },
  {
   "cell_type": "code",
   "execution_count": 67,
   "metadata": {},
   "outputs": [],
   "source": [
    "random_file = pd.Series(not_found_films).sample(1).values[0]\n",
    "random_path = os.path.join(not_found_path, random_file)\n",
    "random_id = int(random_file.split('_')[0])\n",
    "data = films[films['item_id'] == random_id]\n",
    "with open(random_path, 'r') as f:\n",
    "\tapi_response = pd.DataFrame.from_dict(json.load(f)['docs'])"
   ]
  },
  {
   "cell_type": "markdown",
   "metadata": {},
   "source": [
    "### Check descriptions"
   ]
  },
  {
   "cell_type": "code",
   "execution_count": 6,
   "metadata": {},
   "outputs": [
    {
     "data": {
      "text/plain": [
       "3794"
      ]
     },
     "execution_count": 6,
     "metadata": {},
     "output_type": "execute_result"
    }
   ],
   "source": [
    "paths = []\n",
    "for film in not_found_films:\n",
    "\tcurrent_path = os.path.join(not_found_path, film)\n",
    "\tcur_found_path = os.path.join(found_path, film)\n",
    "\titem_id = int(film.split('_')[0])\n",
    "\twith open(current_path, 'r') as f:\n",
    "\t\tdata = json.load(f)\n",
    "\n",
    "\trespone_api_df = pd.DataFrame.from_dict(data['docs'])\n",
    "\tdata = films[films['item_id'] == item_id]\n",
    "\tfor desc_num, description in enumerate(respone_api_df['description']):\n",
    "\t\tmatcher = SequenceMatcher(None, data['description'].values[0], description)\n",
    "\t\tsimilarity = matcher.ratio()\n",
    "\n",
    "\t\tif similarity > 0.9 and len(data['description'].values[0]) > 25 and not os.path.exists(cur_found_path):\n",
    "\t\t\tinfo = respone_api_df.loc[desc_num, :].to_dict()\n",
    "\t\t\tsave_info_from_api(movie_id=item_id, info=info)\n",
    "len(os.listdir(found_path))"
   ]
  },
  {
   "cell_type": "code",
   "execution_count": 9,
   "metadata": {},
   "outputs": [
    {
     "data": {
      "text/plain": [
       "3794"
      ]
     },
     "execution_count": 9,
     "metadata": {},
     "output_type": "execute_result"
    }
   ],
   "source": [
    "pd.Series(os.listdir(found_path)).nunique()"
   ]
  },
  {
   "cell_type": "code",
   "execution_count": 12,
   "metadata": {},
   "outputs": [
    {
     "data": {
      "text/plain": [
       "(3794, 1151)"
      ]
     },
     "execution_count": 12,
     "metadata": {},
     "output_type": "execute_result"
    }
   ],
   "source": [
    "not_found_films = os.listdir(not_found_path)\n",
    "for film in not_found_films:\n",
    "\tcur_not_found_path = os.path.join(not_found_path, film)\n",
    "\tcur_found_path = os.path.join(found_path, film)\n",
    "\tif os.path.exists(cur_found_path):\n",
    "\t\tos.remove(cur_not_found_path)\n",
    "len(os.listdir(found_path)), len(os.listdir(not_found_path))"
   ]
  },
  {
   "cell_type": "code",
   "execution_count": null,
   "metadata": {},
   "outputs": [],
   "source": []
  }
 ],
 "metadata": {
  "kernelspec": {
   "display_name": "recsysplayground-DZfYlImZ-py3.12",
   "language": "python",
   "name": "python3"
  },
  "language_info": {
   "codemirror_mode": {
    "name": "ipython",
    "version": 3
   },
   "file_extension": ".py",
   "mimetype": "text/x-python",
   "name": "python",
   "nbconvert_exporter": "python",
   "pygments_lexer": "ipython3",
   "version": "3.12.5"
  }
 },
 "nbformat": 4,
 "nbformat_minor": 2
}
