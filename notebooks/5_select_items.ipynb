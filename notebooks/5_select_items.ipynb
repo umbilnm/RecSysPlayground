{
 "cells": [
  {
   "cell_type": "code",
   "execution_count": 44,
   "metadata": {},
   "outputs": [],
   "source": [
    "import pandas as pd"
   ]
  },
  {
   "cell_type": "code",
   "execution_count": 49,
   "metadata": {},
   "outputs": [],
   "source": [
    "items_df = pd.read_csv(\"../data/raw/items.csv\")\n",
    "interactions_df = pd.read_csv(\"../data/raw/interactions.csv\")\n",
    "items_ids = interactions_df.groupby(\"item_id\") \\\n",
    "\t\t\t.agg({\"user_id\": \"count\"}).reset_index() \\\n",
    "\t\t\t.rename(columns={\"user_id\": \"count\"}) \\\n",
    "\t\t\t.sort_values(\"count\", ascending=False) \\\n",
    "\t\t\t.head(5000)['item_id']\n",
    "items_df = pd.merge(items_df, items_ids, how=\"inner\", on=\"item_id\")\n",
    "interactions_df = pd.merge(interactions_df, items_ids, how=\"inner\", on=\"item_id\")\n"
   ]
  }
 ],
 "metadata": {
  "kernelspec": {
   "display_name": "graphs2",
   "language": "python",
   "name": "python3"
  },
  "language_info": {
   "codemirror_mode": {
    "name": "ipython",
    "version": 3
   },
   "file_extension": ".py",
   "mimetype": "text/x-python",
   "name": "python",
   "nbconvert_exporter": "python",
   "pygments_lexer": "ipython3",
   "version": "3.12.5"
  }
 },
 "nbformat": 4,
 "nbformat_minor": 2
}
