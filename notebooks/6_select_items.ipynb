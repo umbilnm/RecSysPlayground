{
 "cells": [
  {
   "cell_type": "code",
   "execution_count": 1,
   "metadata": {},
   "outputs": [],
   "source": [
    "import pandas as pd"
   ]
  },
  {
   "cell_type": "code",
   "execution_count": 3,
   "metadata": {},
   "outputs": [],
   "source": [
    "items_df = pd.read_csv(\"../data/raw/items.csv\")\n",
    "interactions_df = pd.read_csv(\"../data/raw/interactions.csv\")"
   ]
  },
  {
   "cell_type": "code",
   "execution_count": 26,
   "metadata": {},
   "outputs": [],
   "source": [
    "items_ids = interactions_df.groupby(\"item_id\") \\\n",
    "\t\t\t.agg({\"user_id\": \"count\"}).reset_index() \\\n",
    "\t\t\t.rename(columns={\"user_id\": \"count\"}) \\\n",
    "\t\t\t.sort_values(\"count\", ascending=False) \\\n",
    "\t\t\t.head(5000)['item_id']"
   ]
  },
  {
   "cell_type": "code",
   "execution_count": 31,
   "metadata": {},
   "outputs": [],
   "source": [
    "items_df = pd.merge(items_df, items_ids, how=\"inner\", on=\"item_id\")\n",
    "interactions_df = pd.merge(interactions_df, items_ids, how=\"inner\", on=\"item_id\")"
   ]
  },
  {
   "cell_type": "code",
   "execution_count": 32,
   "metadata": {},
   "outputs": [
    {
     "data": {
      "text/plain": [
       "((5000, 14), (5374352, 5))"
      ]
     },
     "execution_count": 32,
     "metadata": {},
     "output_type": "execute_result"
    }
   ],
   "source": [
    "items_df.shape, interactions_df.shape"
   ]
  },
  {
   "cell_type": "code",
   "execution_count": 33,
   "metadata": {},
   "outputs": [],
   "source": [
    "items_df.to_csv(\"../data/interim/5k_selected_items.csv\", index=False)\n",
    "interactions_df.to_csv(\"../data/interim/selected_interactions.csv\", index=False)\t"
   ]
  }
 ],
 "metadata": {
  "kernelspec": {
   "display_name": "graphs2",
   "language": "python",
   "name": "python3"
  },
  "language_info": {
   "codemirror_mode": {
    "name": "ipython",
    "version": 3
   },
   "file_extension": ".py",
   "mimetype": "text/x-python",
   "name": "python",
   "nbconvert_exporter": "python",
   "pygments_lexer": "ipython3",
   "version": "3.12.5"
  }
 },
 "nbformat": 4,
 "nbformat_minor": 2
}
