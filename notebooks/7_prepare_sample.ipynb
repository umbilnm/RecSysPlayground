{
 "cells": [
  {
   "cell_type": "code",
   "execution_count": 2,
   "metadata": {},
   "outputs": [],
   "source": [
    "import pandas as pd\n",
    "import numpy as np\n",
    "import scipy.sparse as sp"
   ]
  },
  {
   "cell_type": "markdown",
   "metadata": {},
   "source": [
    "### Get Sample Func "
   ]
  },
  {
   "cell_type": "code",
   "execution_count": 3,
   "metadata": {},
   "outputs": [],
   "source": [
    "data = pd.read_csv(\"../data/interim/selected_interactions.csv\", parse_dates=['last_watch_dt'])\n",
    "\n",
    "gap = pd.Timedelta(days=2)\n",
    "start_test_date = data['last_watch_dt'].max() - pd.Timedelta(days=7)\n",
    "end_test_date = data['last_watch_dt'].max()\n",
    "start_train_date = data['last_watch_dt'].max() - pd.Timedelta(days=14) - gap\n",
    "end_train_date = data['last_watch_dt'].max() - gap - pd.Timedelta(days=7)\n",
    "\n",
    "## splitting \n",
    "train_sample = data[(data['last_watch_dt'] > start_train_date) & (data['last_watch_dt'] < end_train_date)]\n",
    "test_sample = data[(data['last_watch_dt'] > start_test_date) & (data['last_watch_dt'] < end_test_date)]\n",
    "\n",
    "## saving \n",
    "train_sample.to_csv(\"../data/interim/one_week_train_sample.csv\", index=False)\n",
    "test_sample.to_csv(\"../data/interim/one_week_test_sample.csv\", index=False)"
   ]
  },
  {
   "cell_type": "markdown",
   "metadata": {},
   "source": [
    "### Get Matrix Func"
   ]
  },
  {
   "cell_type": "code",
   "execution_count": 4,
   "metadata": {},
   "outputs": [],
   "source": [
    "users_inv_mapping = dict(enumerate(train_sample['user_id'].unique()))\n",
    "users_mapping = {v: k for k, v in users_inv_mapping.items()}\n",
    "top_N = 10\n",
    "last_n_days = 7\n",
    "items_inv_mapping = dict(enumerate(train_sample['item_id'].unique()))\n",
    "items_mapping = {v: k for k, v in items_inv_mapping.items()}"
   ]
  },
  {
   "cell_type": "code",
   "execution_count": 5,
   "metadata": {},
   "outputs": [],
   "source": [
    "def get_coo_matrix(df, \n",
    "                   user_col='user_id', \n",
    "                   item_col='item_id', \n",
    "                   weight_col=None, \n",
    "                   users_mapping={}, \n",
    "                   items_mapping={}):\n",
    "    \n",
    "    if weight_col is None:\n",
    "        weights = np.ones(len(df), dtype=np.float32)\n",
    "    else:\n",
    "        weights = df[weight_col].astype(np.float32)\n",
    "\n",
    "    interaction_matrix = sp.coo_matrix((\n",
    "        weights, \n",
    "        (\n",
    "            df[user_col].map(users_mapping.get), \n",
    "            df[item_col].map(items_mapping.get)\n",
    "        )\n",
    "    ))\n",
    "    return interaction_matrix"
   ]
  },
  {
   "cell_type": "code",
   "execution_count": 6,
   "metadata": {},
   "outputs": [],
   "source": [
    "coo_mat = get_coo_matrix(train_sample, users_mapping=users_mapping, items_mapping=items_mapping)"
   ]
  }
 ],
 "metadata": {
  "kernelspec": {
   "display_name": "recsysplayground-DZfYlImZ-py3.12",
   "language": "python",
   "name": "python3"
  },
  "language_info": {
   "codemirror_mode": {
    "name": "ipython",
    "version": 3
   },
   "file_extension": ".py",
   "mimetype": "text/x-python",
   "name": "python",
   "nbconvert_exporter": "python",
   "pygments_lexer": "ipython3",
   "version": "3.12.5"
  }
 },
 "nbformat": 4,
 "nbformat_minor": 2
}
