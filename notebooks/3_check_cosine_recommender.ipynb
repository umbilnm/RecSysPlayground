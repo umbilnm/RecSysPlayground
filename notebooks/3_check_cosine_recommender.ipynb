{
 "cells": [
  {
   "cell_type": "code",
   "execution_count": 31,
   "metadata": {},
   "outputs": [],
   "source": [
    "import numpy as np\n",
    "import pandas as pd\n",
    "from scipy.sparse import csr_matrix\n",
    "from sklearn.metrics.pairwise import cosine_similarity\n",
    "from implicit.nearest_neighbours import CosineRecommender\n",
    "# from implicit.recommender_base import RecommenderBase \n",
    "interactions_df = pd.read_csv('data/interactions.csv')\n",
    "items_df = pd.read_csv('data/items.csv')\n",
    "users_df = pd.read_csv('data/users.csv')"
   ]
  },
  {
   "cell_type": "code",
   "execution_count": 32,
   "metadata": {},
   "outputs": [],
   "source": [
    "class MyCosineRecommender:\n",
    "    def __init__(self):\n",
    "        self.user_factors = None\n",
    "        self.item_factors = None\n",
    "    \n",
    "    def fit(self, user_item_matrix):\n",
    "        \"\"\"\n",
    "        Тренирует модель на основе разреженной матрицы предпочтений.\n",
    "        :param user_item_matrix: csr_matrix, где строки — пользователи, столбцы — элементы.\n",
    "        \"\"\"\n",
    "        # Косинусное сходство для элементов (матрица item-item)\n",
    "        self.item_factors = cosine_similarity(user_item_matrix.T, dense_output=False)\n",
    "\n",
    "    def recommend(self, user_id, user_item_matrix, N=10):\n",
    "        \"\"\"\n",
    "        Генерирует топ-N рекомендаций для пользователя на основе косинусного сходства.\n",
    "        :param user_id: ID пользователя\n",
    "        :param user_item_matrix: csr_matrix с предпочтениями пользователя\n",
    "        :param N: количество рекомендаций\n",
    "        :return: список рекомендованных элементов\n",
    "        \"\"\"\n",
    "        user_interactions = user_item_matrix[user_id]\n",
    "        scores = user_interactions.dot(self.item_factors)\n",
    "\n",
    "        recommended_items = np.argsort(scores.data)[::-1][:N]\n",
    "\n",
    "        return recommended_items, scores.data\n",
    "\n"
   ]
  },
  {
   "cell_type": "code",
   "execution_count": 33,
   "metadata": {},
   "outputs": [],
   "source": [
    "interactions = np.random.binomial(1, 0.1, size=(100, 1000))"
   ]
  },
  {
   "cell_type": "code",
   "execution_count": 34,
   "metadata": {},
   "outputs": [
    {
     "name": "stderr",
     "output_type": "stream",
     "text": [
      "/home/umbilnm/python_ml/venvs/graphs2/lib/python3.12/site-packages/implicit/utils.py:164: ParameterWarning: Method expects CSR input, and was passed coo_matrix instead. Converting to CSR took 0.0001785755157470703 seconds\n",
      "  warnings.warn(\n",
      "100%|██████████| 1000/1000 [00:00<00:00, 56494.27it/s]\n"
     ]
    }
   ],
   "source": [
    "cos_recommender = CosineRecommender()\n",
    "cos_recommender.fit(interactions)"
   ]
  },
  {
   "cell_type": "markdown",
   "metadata": {},
   "source": [
    "## Implicit Cosine Recommender"
   ]
  },
  {
   "cell_type": "code",
   "execution_count": 37,
   "metadata": {},
   "outputs": [],
   "source": [
    "users_inv_mapping = dict(enumerate(interactions_df['user_id'].unique()))\n",
    "users_mapping = {v: k for k, v in users_inv_mapping.items()}\n",
    "\n",
    "items_inv_mapping = dict(enumerate(interactions_df['item_id'].unique()))\n",
    "items_mapping = {v: k for k, v in items_inv_mapping.items()}\n",
    "\n",
    "def generate_implicit_recs_mapper(\n",
    "    model: ItemItemRecommender,\n",
    "    train_matrix: csr_matrix,\n",
    "    top_N: int,\n",
    "    user_mapping: dict,\n",
    "    item_inv_mapping: dict,\n",
    "    filter_already_liked_items: bool\n",
    "):\n",
    "    def _recs_mapper(user: int):\n",
    "        user_id = user_mapping[user]\n",
    "        recs = model.recommend(user_id, \n",
    "                               train_matrix, \n",
    "                               N=top_N, \n",
    "                               filter_already_liked_items=filter_already_liked_items)\n",
    "        return [item_inv_mapping[item] for item, _ in recs]\n",
    "    return _recs_mapper"
   ]
  },
  {
   "cell_type": "code",
   "execution_count": null,
   "metadata": {},
   "outputs": [],
   "source": []
  }
 ],
 "metadata": {
  "kernelspec": {
   "display_name": "graphs2",
   "language": "python",
   "name": "python3"
  },
  "language_info": {
   "codemirror_mode": {
    "name": "ipython",
    "version": 3
   },
   "file_extension": ".py",
   "mimetype": "text/x-python",
   "name": "python",
   "nbconvert_exporter": "python",
   "pygments_lexer": "ipython3",
   "version": "3.12.4"
  }
 },
 "nbformat": 4,
 "nbformat_minor": 2
}
