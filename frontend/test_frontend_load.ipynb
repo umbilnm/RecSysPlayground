{
 "cells": [
  {
   "cell_type": "code",
   "execution_count": 46,
   "metadata": {},
   "outputs": [],
   "source": [
    "import json\n",
    "import ast\n",
    "from typing import List\n",
    "import requests\n",
    "from io import BytesIO\n",
    "import ipywidgets as widgets\n",
    "from IPython.display import display\n",
    "from IPython.display import HTML\n",
    "import pandas as pd\n",
    "from PIL import Image"
   ]
  },
  {
   "cell_type": "code",
   "execution_count": 47,
   "metadata": {},
   "outputs": [],
   "source": [
    "cols = [\"item_id\", \"title\", \"genres_data\", \"countries_data\", \"release_year\", \"rating\", \"poster\", 'user_id']\n",
    "# paths\n",
    "api_response_path = \"../data/external/found_films/{}_info.json\"\n",
    "preds_path = \"../reports/predictions.csv\"\n",
    "films_path = \"../data/interim/5k_selected_items.csv\"\n",
    "history_path = \"../data/interim/selected_interactions.csv\"\n",
    "\n",
    "def process_image_url(url: str):\n",
    "\ttemplate = \"<img src='{url}' width='120' height='180'>\"\n",
    "\tif url:\n",
    "\t\treturn template.format(url=url)\n",
    "\telse:\n",
    "\t\treturn \"<img src='None' width='120' height='180'>\"\n",
    "\t\n",
    "def load_api_info(ids: List[int]):\n",
    "\tarr = []\n",
    "\tfor cur_id in ids:\n",
    "\t\ttry:\n",
    "\t\t\twith open (api_response_path.format(cur_id), \"r\") as f:\n",
    "\t\t\t\tdata = pd.DataFrame.from_dict({f\"{cur_id}\": json.load(f)}, orient=\"index\")\n",
    "\t\t\t\tarr.append(data)\n",
    "\t\texcept Exception:\n",
    "\t\t\tpass\n",
    "\treturn arr"
   ]
  },
  {
   "cell_type": "code",
   "execution_count": 48,
   "metadata": {},
   "outputs": [],
   "source": [
    "# load data\n",
    "films_df = pd.read_csv(films_path)\n",
    "predictions = pd.read_csv(preds_path)\n",
    "history_df = pd.read_csv(history_path)\n",
    "with open(\"users_to_show.json\", 'r') as f:\n",
    "\tusers_to_show = json.load(f)['users']\n",
    "\n",
    "# recs\n",
    "users_to_show = list(map(int, users_to_show))\n",
    "predictions = predictions[predictions['user_id'].isin(users_to_show)]\n",
    "predictions['recs'] = predictions['recs'].apply(lambda x: ast.literal_eval(x))\n",
    "predictions = predictions.explode('recs')\n",
    "recommendations = pd.merge(predictions, films_df, left_on='recs', right_on='item_id')\n",
    "recs_ids = recommendations['item_id'].unique().tolist()\n",
    "recommendations['item_id'] = recommendations['item_id'].astype('int')\n",
    "\n",
    "# story data\n",
    "history_df = history_df[history_df['user_id'].isin(users_to_show)].loc[:, ['user_id', 'item_id']]\n",
    "history_df = pd.merge(history_df, films_df, on='item_id')\n",
    "history_ids = history_df['item_id'].unique().tolist()\n"
   ]
  },
  {
   "cell_type": "code",
   "execution_count": 49,
   "metadata": {},
   "outputs": [
    {
     "name": "stderr",
     "output_type": "stream",
     "text": [
      "/tmp/ipykernel_70409/2282514057.py:3: FutureWarning: The behavior of DataFrame concatenation with empty or all-NA entries is deprecated. In a future version, this will no longer exclude empty or all-NA columns when determining the result dtypes. To retain the old behavior, exclude the relevant entries before the concat operation.\n",
      "  recs_info_from_api = pd.concat(recs_info_from_api).reset_index()\n",
      "/tmp/ipykernel_70409/2282514057.py:12: FutureWarning: The behavior of DataFrame concatenation with empty or all-NA entries is deprecated. In a future version, this will no longer exclude empty or all-NA columns when determining the result dtypes. To retain the old behavior, exclude the relevant entries before the concat operation.\n",
      "  history_info_from_api = pd.concat(history_info_from_api).reset_index()\n"
     ]
    }
   ],
   "source": [
    "# recs info\n",
    "recs_info_from_api = load_api_info(recs_ids)\n",
    "recs_info_from_api = pd.concat(recs_info_from_api).reset_index()\n",
    "recs_info_from_api['index'] = recs_info_from_api['index'].astype(int)\n",
    "recommendations = pd.merge(recommendations, recs_info_from_api, how=\"left\", left_on=\"item_id\", right_on=\"index\", suffixes=(\"_data\", \"_api\")).loc[:, cols]\n",
    "recommendations['rating'] = recommendations['rating'].apply(lambda x: x.get('kp') if isinstance(x, dict) else x)\n",
    "recommendations['poster'] = recommendations['poster'].apply(lambda x: x.get('url') if isinstance(x, dict) else x)\n",
    "recommendations['poster'] = recommendations['poster'].apply(process_image_url)\n",
    "\n",
    "# history info\n",
    "history_info_from_api = load_api_info(history_ids)\n",
    "history_info_from_api = pd.concat(history_info_from_api).reset_index()\n",
    "history_info_from_api['index'] = history_info_from_api['index'].astype(int)\n",
    "history_df = pd.merge(history_df, history_info_from_api, how=\"left\", left_on=\"item_id\", right_on=\"index\", suffixes=(\"_data\", \"_api\")).loc[:, cols]\n",
    "history_df['rating'] = history_df['rating'].apply(lambda x: x.get('kp') if isinstance(x, dict) else x)\n",
    "history_df['poster'] = history_df['poster'].apply(lambda x: x.get('url') if isinstance(x, dict) else x)\n",
    "history_df['poster'] = history_df['poster'].apply(process_image_url)"
   ]
  },
  {
   "cell_type": "code",
   "execution_count": 56,
   "metadata": {},
   "outputs": [],
   "source": [
    "recommendations_output = widgets.Output()\n",
    "history_output = widgets.Output()\n",
    "\n",
    "def display_recommendations(user_id: int):\n",
    "    with recommendations_output:\n",
    "        recommendations_output.clear_output()\n",
    "        user_recs = recommendations[recommendations['user_id']==int(user_id)]\n",
    "        html_recs = user_recs.drop(columns=['item_id', 'user_id']).loc[:, ['poster', 'title', 'genres_data', 'countries_data', 'release_year', 'rating']].to_html(escape=False, index=False, border=1)\n",
    "        display(HTML(html_recs))\n",
    "\n",
    "def display_history(user_id: int):\n",
    "    with history_output:\n",
    "        history_output.clear_output()\n",
    "        user_history = history_df[history_df['user_id']==int(user_id)]\n",
    "        html_history = user_history.drop(columns=['item_id', 'user_id']).loc[:, ['poster', 'title', 'genres_data', 'countries_data', 'release_year', 'rating']].to_html(escape=False, index=False, border=1)\n",
    "        display(HTML(html_history))"
   ]
  },
  {
   "cell_type": "code",
   "execution_count": 58,
   "metadata": {},
   "outputs": [],
   "source": [
    "buttons = []\n",
    "for user in users_to_show:\n",
    "    button = widgets.Button(description=str(user), button_style='warning')\n",
    "    buttons.append(button)\n",
    "\n",
    "for button in buttons:\n",
    "    button.on_click(lambda b: display_recommendations(int(b.description)))\n",
    "    button.on_click(lambda b: display_history(int(b.description)))\n",
    "    \n",
    "buttons_box = widgets.HBox(buttons)\n"
   ]
  },
  {
   "cell_type": "code",
   "execution_count": 62,
   "metadata": {},
   "outputs": [
    {
     "data": {
      "application/vnd.jupyter.widget-view+json": {
       "model_id": "f35066b4b3e04c3599cd7f3551aa7f8d",
       "version_major": 2,
       "version_minor": 0
      },
      "text/plain": [
       "VBox(children=(HBox(children=(Button(button_style='warning', description='230878', style=ButtonStyle()), Butto…"
      ]
     },
     "metadata": {},
     "output_type": "display_data"
    },
    {
     "data": {
      "application/vnd.jupyter.widget-view+json": {
       "model_id": "de96592e975d4658ac6282ad623ab962",
       "version_major": 2,
       "version_minor": 0
      },
      "text/plain": [
       "HTML(value='\\n    <style>\\n    .my-table {\\n        width: 100%;\\n        table-layout: fixed;\\n    }\\n    .my…"
      ]
     },
     "metadata": {},
     "output_type": "display_data"
    }
   ],
   "source": [
    "display(widgets.VBox([\n",
    "\tbuttons_box,\n",
    "    widgets.HTML(\"<h3>История просмотров пользователя:</h3>\"),\n",
    "    history_output,\n",
    "    widgets.HTML(\"<hr style='height: 2px; color: black;'>\"),\n",
    "    widgets.HTML(\"<h3>Рекомендации для пользователя:</h3>\"),\n",
    "    recommendations_output\n",
    "]))\n",
    "\n",
    "style = \"\"\"\n",
    "    <style>\n",
    "    .my-table {\n",
    "        width: 100%;\n",
    "        table-layout: fixed;\n",
    "    }\n",
    "    .my-table th, .my-table td {\n",
    "        padding: 10px;\n",
    "        text-align: center;\n",
    "    }\n",
    "    </style>\n",
    "\"\"\"\n",
    "\n",
    "display(widgets.HTML(style))"
   ]
  },
  {
   "cell_type": "code",
   "execution_count": null,
   "metadata": {},
   "outputs": [],
   "source": []
  }
 ],
 "metadata": {
  "kernelspec": {
   "display_name": "recsysplayground-DZfYlImZ-py3.12",
   "language": "python",
   "name": "python3"
  },
  "language_info": {
   "codemirror_mode": {
    "name": "ipython",
    "version": 3
   },
   "file_extension": ".py",
   "mimetype": "text/x-python",
   "name": "python",
   "nbconvert_exporter": "python",
   "pygments_lexer": "ipython3",
   "version": "3.12.5"
  }
 },
 "nbformat": 4,
 "nbformat_minor": 2
}
